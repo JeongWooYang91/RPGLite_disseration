{
 "cells": [
  {
   "cell_type": "code",
   "execution_count": 15,
   "id": "4b92614e",
   "metadata": {},
   "outputs": [],
   "source": [
    "import pandas as pd"
   ]
  },
  {
   "cell_type": "code",
   "execution_count": 16,
   "id": "14537631",
   "metadata": {},
   "outputs": [],
   "source": [
    "games =pd.read_csv(\"E:/rpglite-data/games_all.csv\")"
   ]
  },
  {
   "cell_type": "code",
   "execution_count": 17,
   "id": "b797706f",
   "metadata": {},
   "outputs": [
    {
     "data": {
      "text/html": [
       "<div>\n",
       "<style scoped>\n",
       "    .dataframe tbody tr th:only-of-type {\n",
       "        vertical-align: middle;\n",
       "    }\n",
       "\n",
       "    .dataframe tbody tr th {\n",
       "        vertical-align: top;\n",
       "    }\n",
       "\n",
       "    .dataframe thead th {\n",
       "        text-align: right;\n",
       "    }\n",
       "</style>\n",
       "<table border=\"1\" class=\"dataframe\">\n",
       "  <thead>\n",
       "    <tr style=\"text-align: right;\">\n",
       "      <th></th>\n",
       "      <th>Unnamed: 0</th>\n",
       "      <th>balance_code</th>\n",
       "      <th>mmr_p1</th>\n",
       "      <th>mmr_p2</th>\n",
       "      <th>mmr_winner</th>\n",
       "      <th>winrate1</th>\n",
       "      <th>winrate2</th>\n",
       "      <th>strat_1</th>\n",
       "      <th>strat_2</th>\n",
       "      <th>strat_1_onehot</th>\n",
       "      <th>strat_2_onehot</th>\n",
       "      <th>winner</th>\n",
       "    </tr>\n",
       "  </thead>\n",
       "  <tbody>\n",
       "    <tr>\n",
       "      <th>0</th>\n",
       "      <td>0</td>\n",
       "      <td>1.0</td>\n",
       "      <td>827.500000</td>\n",
       "      <td>1007.520000</td>\n",
       "      <td>827.500000</td>\n",
       "      <td>0.60</td>\n",
       "      <td>0.608696</td>\n",
       "      <td>0.310345</td>\n",
       "      <td>0.163793</td>\n",
       "      <td>3</td>\n",
       "      <td>23</td>\n",
       "      <td>1</td>\n",
       "    </tr>\n",
       "    <tr>\n",
       "      <th>1</th>\n",
       "      <td>1</td>\n",
       "      <td>1.0</td>\n",
       "      <td>950.634981</td>\n",
       "      <td>826.985944</td>\n",
       "      <td>826.985944</td>\n",
       "      <td>0.44</td>\n",
       "      <td>0.666667</td>\n",
       "      <td>0.794335</td>\n",
       "      <td>0.310345</td>\n",
       "      <td>5</td>\n",
       "      <td>3</td>\n",
       "      <td>2</td>\n",
       "    </tr>\n",
       "    <tr>\n",
       "      <th>2</th>\n",
       "      <td>2</td>\n",
       "      <td>1.0</td>\n",
       "      <td>977.333333</td>\n",
       "      <td>827.500000</td>\n",
       "      <td>827.500000</td>\n",
       "      <td>0.00</td>\n",
       "      <td>0.600000</td>\n",
       "      <td>0.163793</td>\n",
       "      <td>0.310345</td>\n",
       "      <td>23</td>\n",
       "      <td>3</td>\n",
       "      <td>2</td>\n",
       "    </tr>\n",
       "    <tr>\n",
       "      <th>3</th>\n",
       "      <td>3</td>\n",
       "      <td>1.0</td>\n",
       "      <td>968.095122</td>\n",
       "      <td>827.500000</td>\n",
       "      <td>827.500000</td>\n",
       "      <td>0.00</td>\n",
       "      <td>0.571429</td>\n",
       "      <td>0.166256</td>\n",
       "      <td>0.794335</td>\n",
       "      <td>2</td>\n",
       "      <td>5</td>\n",
       "      <td>2</td>\n",
       "    </tr>\n",
       "    <tr>\n",
       "      <th>4</th>\n",
       "      <td>4</td>\n",
       "      <td>1.0</td>\n",
       "      <td>827.500000</td>\n",
       "      <td>826.985944</td>\n",
       "      <td>826.985944</td>\n",
       "      <td>0.60</td>\n",
       "      <td>0.285714</td>\n",
       "      <td>0.310345</td>\n",
       "      <td>0.163793</td>\n",
       "      <td>3</td>\n",
       "      <td>23</td>\n",
       "      <td>2</td>\n",
       "    </tr>\n",
       "  </tbody>\n",
       "</table>\n",
       "</div>"
      ],
      "text/plain": [
       "   Unnamed: 0  balance_code      mmr_p1       mmr_p2  mmr_winner  winrate1  \\\n",
       "0           0           1.0  827.500000  1007.520000  827.500000      0.60   \n",
       "1           1           1.0  950.634981   826.985944  826.985944      0.44   \n",
       "2           2           1.0  977.333333   827.500000  827.500000      0.00   \n",
       "3           3           1.0  968.095122   827.500000  827.500000      0.00   \n",
       "4           4           1.0  827.500000   826.985944  826.985944      0.60   \n",
       "\n",
       "   winrate2   strat_1   strat_2  strat_1_onehot  strat_2_onehot  winner  \n",
       "0  0.608696  0.310345  0.163793               3              23       1  \n",
       "1  0.666667  0.794335  0.310345               5               3       2  \n",
       "2  0.600000  0.163793  0.310345              23               3       2  \n",
       "3  0.571429  0.166256  0.794335               2               5       2  \n",
       "4  0.285714  0.310345  0.163793               3              23       2  "
      ]
     },
     "execution_count": 17,
     "metadata": {},
     "output_type": "execute_result"
    }
   ],
   "source": [
    "games.head(5)"
   ]
  },
  {
   "cell_type": "code",
   "execution_count": 18,
   "id": "26025a53",
   "metadata": {},
   "outputs": [],
   "source": [
    "#new mmr, pick rate\n",
    "case1=games.drop(['Unnamed: 0','winrate1','winrate2','mmr_winner','strat_1_onehot','strat_2_onehot'],axis=1)"
   ]
  },
  {
   "cell_type": "code",
   "execution_count": 19,
   "id": "eab31d30",
   "metadata": {},
   "outputs": [
    {
     "data": {
      "text/html": [
       "<div>\n",
       "<style scoped>\n",
       "    .dataframe tbody tr th:only-of-type {\n",
       "        vertical-align: middle;\n",
       "    }\n",
       "\n",
       "    .dataframe tbody tr th {\n",
       "        vertical-align: top;\n",
       "    }\n",
       "\n",
       "    .dataframe thead th {\n",
       "        text-align: right;\n",
       "    }\n",
       "</style>\n",
       "<table border=\"1\" class=\"dataframe\">\n",
       "  <thead>\n",
       "    <tr style=\"text-align: right;\">\n",
       "      <th></th>\n",
       "      <th>balance_code</th>\n",
       "      <th>mmr_p1</th>\n",
       "      <th>mmr_p2</th>\n",
       "      <th>strat_1</th>\n",
       "      <th>strat_2</th>\n",
       "      <th>winner</th>\n",
       "    </tr>\n",
       "  </thead>\n",
       "  <tbody>\n",
       "    <tr>\n",
       "      <th>0</th>\n",
       "      <td>1.0</td>\n",
       "      <td>827.500000</td>\n",
       "      <td>1007.520000</td>\n",
       "      <td>0.310345</td>\n",
       "      <td>0.163793</td>\n",
       "      <td>1</td>\n",
       "    </tr>\n",
       "    <tr>\n",
       "      <th>1</th>\n",
       "      <td>1.0</td>\n",
       "      <td>950.634981</td>\n",
       "      <td>826.985944</td>\n",
       "      <td>0.794335</td>\n",
       "      <td>0.310345</td>\n",
       "      <td>2</td>\n",
       "    </tr>\n",
       "    <tr>\n",
       "      <th>2</th>\n",
       "      <td>1.0</td>\n",
       "      <td>977.333333</td>\n",
       "      <td>827.500000</td>\n",
       "      <td>0.163793</td>\n",
       "      <td>0.310345</td>\n",
       "      <td>2</td>\n",
       "    </tr>\n",
       "    <tr>\n",
       "      <th>3</th>\n",
       "      <td>1.0</td>\n",
       "      <td>968.095122</td>\n",
       "      <td>827.500000</td>\n",
       "      <td>0.166256</td>\n",
       "      <td>0.794335</td>\n",
       "      <td>2</td>\n",
       "    </tr>\n",
       "    <tr>\n",
       "      <th>4</th>\n",
       "      <td>1.0</td>\n",
       "      <td>827.500000</td>\n",
       "      <td>826.985944</td>\n",
       "      <td>0.310345</td>\n",
       "      <td>0.163793</td>\n",
       "      <td>2</td>\n",
       "    </tr>\n",
       "  </tbody>\n",
       "</table>\n",
       "</div>"
      ],
      "text/plain": [
       "   balance_code      mmr_p1       mmr_p2   strat_1   strat_2  winner\n",
       "0           1.0  827.500000  1007.520000  0.310345  0.163793       1\n",
       "1           1.0  950.634981   826.985944  0.794335  0.310345       2\n",
       "2           1.0  977.333333   827.500000  0.163793  0.310345       2\n",
       "3           1.0  968.095122   827.500000  0.166256  0.794335       2\n",
       "4           1.0  827.500000   826.985944  0.310345  0.163793       2"
      ]
     },
     "execution_count": 19,
     "metadata": {},
     "output_type": "execute_result"
    }
   ],
   "source": [
    "case1.head(5)"
   ]
  },
  {
   "cell_type": "code",
   "execution_count": 20,
   "id": "1794cf5f",
   "metadata": {},
   "outputs": [],
   "source": [
    "#new mmr, onehot\n",
    "case2=games.drop(['Unnamed: 0','winrate1','winrate2','mmr_winner','strat_1','strat_2'],axis=1)"
   ]
  },
  {
   "cell_type": "code",
   "execution_count": 21,
   "id": "f415ceac",
   "metadata": {},
   "outputs": [
    {
     "data": {
      "text/html": [
       "<div>\n",
       "<style scoped>\n",
       "    .dataframe tbody tr th:only-of-type {\n",
       "        vertical-align: middle;\n",
       "    }\n",
       "\n",
       "    .dataframe tbody tr th {\n",
       "        vertical-align: top;\n",
       "    }\n",
       "\n",
       "    .dataframe thead th {\n",
       "        text-align: right;\n",
       "    }\n",
       "</style>\n",
       "<table border=\"1\" class=\"dataframe\">\n",
       "  <thead>\n",
       "    <tr style=\"text-align: right;\">\n",
       "      <th></th>\n",
       "      <th>balance_code</th>\n",
       "      <th>mmr_p1</th>\n",
       "      <th>mmr_p2</th>\n",
       "      <th>strat_1_onehot</th>\n",
       "      <th>strat_2_onehot</th>\n",
       "      <th>winner</th>\n",
       "    </tr>\n",
       "  </thead>\n",
       "  <tbody>\n",
       "    <tr>\n",
       "      <th>0</th>\n",
       "      <td>1.0</td>\n",
       "      <td>827.500000</td>\n",
       "      <td>1007.520000</td>\n",
       "      <td>3</td>\n",
       "      <td>23</td>\n",
       "      <td>1</td>\n",
       "    </tr>\n",
       "    <tr>\n",
       "      <th>1</th>\n",
       "      <td>1.0</td>\n",
       "      <td>950.634981</td>\n",
       "      <td>826.985944</td>\n",
       "      <td>5</td>\n",
       "      <td>3</td>\n",
       "      <td>2</td>\n",
       "    </tr>\n",
       "    <tr>\n",
       "      <th>2</th>\n",
       "      <td>1.0</td>\n",
       "      <td>977.333333</td>\n",
       "      <td>827.500000</td>\n",
       "      <td>23</td>\n",
       "      <td>3</td>\n",
       "      <td>2</td>\n",
       "    </tr>\n",
       "    <tr>\n",
       "      <th>3</th>\n",
       "      <td>1.0</td>\n",
       "      <td>968.095122</td>\n",
       "      <td>827.500000</td>\n",
       "      <td>2</td>\n",
       "      <td>5</td>\n",
       "      <td>2</td>\n",
       "    </tr>\n",
       "    <tr>\n",
       "      <th>4</th>\n",
       "      <td>1.0</td>\n",
       "      <td>827.500000</td>\n",
       "      <td>826.985944</td>\n",
       "      <td>3</td>\n",
       "      <td>23</td>\n",
       "      <td>2</td>\n",
       "    </tr>\n",
       "  </tbody>\n",
       "</table>\n",
       "</div>"
      ],
      "text/plain": [
       "   balance_code      mmr_p1       mmr_p2  strat_1_onehot  strat_2_onehot  \\\n",
       "0           1.0  827.500000  1007.520000               3              23   \n",
       "1           1.0  950.634981   826.985944               5               3   \n",
       "2           1.0  977.333333   827.500000              23               3   \n",
       "3           1.0  968.095122   827.500000               2               5   \n",
       "4           1.0  827.500000   826.985944               3              23   \n",
       "\n",
       "   winner  \n",
       "0       1  \n",
       "1       2  \n",
       "2       2  \n",
       "3       2  \n",
       "4       2  "
      ]
     },
     "execution_count": 21,
     "metadata": {},
     "output_type": "execute_result"
    }
   ],
   "source": [
    "case2.head(5)"
   ]
  },
  {
   "cell_type": "code",
   "execution_count": 22,
   "id": "79135039",
   "metadata": {},
   "outputs": [],
   "source": [
    "#new mmr, winrate\n",
    "case3=games.drop(['Unnamed: 0','strat_1_onehot','strat_2_onehot','mmr_winner','strat_1','strat_2'],axis=1)"
   ]
  },
  {
   "cell_type": "code",
   "execution_count": 23,
   "id": "5c352de9",
   "metadata": {},
   "outputs": [
    {
     "data": {
      "text/html": [
       "<div>\n",
       "<style scoped>\n",
       "    .dataframe tbody tr th:only-of-type {\n",
       "        vertical-align: middle;\n",
       "    }\n",
       "\n",
       "    .dataframe tbody tr th {\n",
       "        vertical-align: top;\n",
       "    }\n",
       "\n",
       "    .dataframe thead th {\n",
       "        text-align: right;\n",
       "    }\n",
       "</style>\n",
       "<table border=\"1\" class=\"dataframe\">\n",
       "  <thead>\n",
       "    <tr style=\"text-align: right;\">\n",
       "      <th></th>\n",
       "      <th>balance_code</th>\n",
       "      <th>mmr_p1</th>\n",
       "      <th>mmr_p2</th>\n",
       "      <th>winrate1</th>\n",
       "      <th>winrate2</th>\n",
       "      <th>winner</th>\n",
       "    </tr>\n",
       "  </thead>\n",
       "  <tbody>\n",
       "    <tr>\n",
       "      <th>0</th>\n",
       "      <td>1.0</td>\n",
       "      <td>827.500000</td>\n",
       "      <td>1007.520000</td>\n",
       "      <td>0.60</td>\n",
       "      <td>0.608696</td>\n",
       "      <td>1</td>\n",
       "    </tr>\n",
       "    <tr>\n",
       "      <th>1</th>\n",
       "      <td>1.0</td>\n",
       "      <td>950.634981</td>\n",
       "      <td>826.985944</td>\n",
       "      <td>0.44</td>\n",
       "      <td>0.666667</td>\n",
       "      <td>2</td>\n",
       "    </tr>\n",
       "    <tr>\n",
       "      <th>2</th>\n",
       "      <td>1.0</td>\n",
       "      <td>977.333333</td>\n",
       "      <td>827.500000</td>\n",
       "      <td>0.00</td>\n",
       "      <td>0.600000</td>\n",
       "      <td>2</td>\n",
       "    </tr>\n",
       "    <tr>\n",
       "      <th>3</th>\n",
       "      <td>1.0</td>\n",
       "      <td>968.095122</td>\n",
       "      <td>827.500000</td>\n",
       "      <td>0.00</td>\n",
       "      <td>0.571429</td>\n",
       "      <td>2</td>\n",
       "    </tr>\n",
       "    <tr>\n",
       "      <th>4</th>\n",
       "      <td>1.0</td>\n",
       "      <td>827.500000</td>\n",
       "      <td>826.985944</td>\n",
       "      <td>0.60</td>\n",
       "      <td>0.285714</td>\n",
       "      <td>2</td>\n",
       "    </tr>\n",
       "  </tbody>\n",
       "</table>\n",
       "</div>"
      ],
      "text/plain": [
       "   balance_code      mmr_p1       mmr_p2  winrate1  winrate2  winner\n",
       "0           1.0  827.500000  1007.520000      0.60  0.608696       1\n",
       "1           1.0  950.634981   826.985944      0.44  0.666667       2\n",
       "2           1.0  977.333333   827.500000      0.00  0.600000       2\n",
       "3           1.0  968.095122   827.500000      0.00  0.571429       2\n",
       "4           1.0  827.500000   826.985944      0.60  0.285714       2"
      ]
     },
     "execution_count": 23,
     "metadata": {},
     "output_type": "execute_result"
    }
   ],
   "source": [
    "case3.head(5)"
   ]
  },
  {
   "cell_type": "code",
   "execution_count": 24,
   "id": "0401672c",
   "metadata": {},
   "outputs": [],
   "source": [
    "#Scikit-learn 다 import 씹라\n",
    "import sklearn\n",
    "from sklearn.model_selection import train_test_split\n",
    "from sklearn.ensemble import RandomForestClassifier\n",
    "from sklearn.ensemble import AdaBoostClassifier\n",
    "from sklearn.svm import SVC\n",
    "from sklearn.neighbors import KNeighborsClassifier\n",
    "from sklearn import metrics\n",
    "from sklearn.neural_network import MLPClassifier\n",
    "from sklearn.naive_bayes import GaussianNB"
   ]
  },
  {
   "cell_type": "markdown",
   "id": "e0b2d654",
   "metadata": {},
   "source": [
    "# Case 1 : New MMR System, pick rate"
   ]
  },
  {
   "cell_type": "code",
   "execution_count": 25,
   "id": "49e0d624",
   "metadata": {},
   "outputs": [],
   "source": [
    "X=case1.drop(['winner'],axis=1)\n",
    "X_train, X_test, y_train, y_test = train_test_split(X, games['winner'], test_size=0.3, \n",
    "                                stratify = X['balance_code'])"
   ]
  },
  {
   "cell_type": "markdown",
   "id": "410e744d",
   "metadata": {},
   "source": [
    "RandomForest"
   ]
  },
  {
   "cell_type": "code",
   "execution_count": 26,
   "id": "462e7afd",
   "metadata": {},
   "outputs": [
    {
     "name": "stdout",
     "output_type": "stream",
     "text": [
      "Accuracy: 0.5295434198746642\n"
     ]
    }
   ],
   "source": [
    "from sklearn.ensemble import RandomForestClassifier\n",
    "\n",
    "#Create a Gaussian Classifier\n",
    "clf=RandomForestClassifier(n_estimators=200)\n",
    "\n",
    "#Train the model using the training sets y_pred=clf.predict(X_test)\n",
    "clf.fit(X_train,y_train)\n",
    "\n",
    "y_pred=clf.predict(X_test)\n",
    "print(\"Accuracy:\",metrics.accuracy_score(y_test, y_pred))"
   ]
  },
  {
   "cell_type": "code",
   "execution_count": 27,
   "id": "447da8c5",
   "metadata": {},
   "outputs": [
    {
     "data": {
      "text/plain": [
       "array([0.03216572, 0.28778343, 0.27127591, 0.21607012, 0.19270481])"
      ]
     },
     "execution_count": 27,
     "metadata": {},
     "output_type": "execute_result"
    }
   ],
   "source": [
    "clf.feature_importances_"
   ]
  },
  {
   "cell_type": "code",
   "execution_count": null,
   "id": "124f18c5",
   "metadata": {},
   "outputs": [],
   "source": [
    "svc=SVC(probability=True, kernel='linear')\n",
    "abc =AdaBoostClassifier(n_estimators=10, base_estimator=svc,learning_rate=1)\n",
    "model = abc.fit(X_train, y_train)\n",
    "y_pred = model.predict(X_test)\n",
    "\n",
    "print(\"Accuracy:\",metrics.accuracy_score(y_test, y_pred))"
   ]
  },
  {
   "cell_type": "code",
   "execution_count": 37,
   "id": "e4633aa7",
   "metadata": {},
   "outputs": [
    {
     "name": "stdout",
     "output_type": "stream",
     "text": [
      "Accuracy: 0.5340196956132498\n"
     ]
    }
   ],
   "source": [
    "from sklearn.neighbors import KNeighborsClassifier\n",
    "\n",
    "#Create KNN Classifier\n",
    "knn = KNeighborsClassifier(n_neighbors=3)\n",
    "\n",
    "#Train the model using the training sets\n",
    "knn.fit(X_train, y_train)\n",
    "\n",
    "#Predict the response for test dataset\n",
    "y_pred = knn.predict(X_test)\n",
    "print(\"Accuracy:\",metrics.accuracy_score(y_test, y_pred))"
   ]
  },
  {
   "cell_type": "code",
   "execution_count": 39,
   "id": "995ced67",
   "metadata": {},
   "outputs": [
    {
     "name": "stdout",
     "output_type": "stream",
     "text": [
      "Accuracy: 0.5344673231871083\n"
     ]
    }
   ],
   "source": [
    "#Import Gaussian Naive Bayes model\n",
    "#Create a Gaussian Classifier\n",
    "model = GaussianNB()\n",
    "\n",
    "# Train the model using the training sets\n",
    "model.fit(X_train, y_train)\n",
    "\n",
    "#Predict Output\n",
    "y_pred= model.predict(X_test) # 0:Overcast, 2:Mild\n",
    "print(\"Accuracy:\",metrics.accuracy_score(y_test, y_pred))"
   ]
  },
  {
   "cell_type": "markdown",
   "id": "a2f8cfa4",
   "metadata": {},
   "source": [
    "# Case 2 with new MMR and one-hot"
   ]
  },
  {
   "cell_type": "code",
   "execution_count": 40,
   "id": "2fc7b985",
   "metadata": {},
   "outputs": [],
   "source": [
    "X=case2.drop(['winner'],axis=1)\n",
    "X_train, X_test, y_train, y_test = train_test_split(X, games['winner'], test_size=0.3, \n",
    "                                stratify = X['balance_code'])"
   ]
  },
  {
   "cell_type": "code",
   "execution_count": 41,
   "id": "56b2f5a9",
   "metadata": {},
   "outputs": [
    {
     "name": "stdout",
     "output_type": "stream",
     "text": [
      "Accuracy: 0.5290957923008057\n"
     ]
    }
   ],
   "source": [
    "#RandomForest\n",
    "from sklearn.ensemble import RandomForestClassifier\n",
    "\n",
    "#Create a Gaussian Classifier\n",
    "clf=RandomForestClassifier(n_estimators=200)\n",
    "\n",
    "#Train the model using the training sets y_pred=clf.predict(X_test)\n",
    "clf.fit(X_train,y_train)\n",
    "\n",
    "y_pred=clf.predict(X_test)\n",
    "print(\"Accuracy:\",metrics.accuracy_score(y_test, y_pred))"
   ]
  },
  {
   "cell_type": "code",
   "execution_count": 42,
   "id": "b216b0c0",
   "metadata": {},
   "outputs": [
    {
     "data": {
      "text/plain": [
       "array([0.03327534, 0.27312169, 0.27922576, 0.20881204, 0.20556517])"
      ]
     },
     "execution_count": 42,
     "metadata": {},
     "output_type": "execute_result"
    }
   ],
   "source": [
    "clf.feature_importances_"
   ]
  },
  {
   "cell_type": "code",
   "execution_count": 55,
   "id": "0ffd3902",
   "metadata": {},
   "outputs": [
    {
     "name": "stdout",
     "output_type": "stream",
     "text": [
      "Accuracy: 0.4923903312444047\n"
     ]
    }
   ],
   "source": [
    "svc=SVC(probability=True, kernel='linear')\n",
    "abc =AdaBoostClassifier(n_estimators=10, base_estimator=svc,learning_rate=1)\n",
    "model = abc.fit(X_train, y_train)\n",
    "y_pred = model.predict(X_test)\n",
    "\n",
    "print(\"Accuracy:\",metrics.accuracy_score(y_test, y_pred))"
   ]
  },
  {
   "cell_type": "code",
   "execution_count": 43,
   "id": "d3b17541",
   "metadata": {},
   "outputs": [
    {
     "name": "stdout",
     "output_type": "stream",
     "text": [
      "Accuracy: 0.5183527305282005\n"
     ]
    }
   ],
   "source": [
    "from sklearn.neighbors import KNeighborsClassifier\n",
    "\n",
    "#Create KNN Classifier\n",
    "knn = KNeighborsClassifier(n_neighbors=3)\n",
    "\n",
    "#Train the model using the training sets\n",
    "knn.fit(X_train, y_train)\n",
    "\n",
    "#Predict the response for test dataset\n",
    "y_pred = knn.predict(X_test)\n",
    "print(\"Accuracy:\",metrics.accuracy_score(y_test, y_pred))"
   ]
  },
  {
   "cell_type": "code",
   "execution_count": 45,
   "id": "8178b8a8",
   "metadata": {},
   "outputs": [
    {
     "name": "stdout",
     "output_type": "stream",
     "text": [
      "Accuracy: 0.5183527305282005\n"
     ]
    }
   ],
   "source": [
    "#Import Gaussian Naive Bayes model\n",
    "#Create a Gaussian Classifier\n",
    "model = GaussianNB()\n",
    "\n",
    "# Train the model using the training sets\n",
    "model.fit(X_train, y_train)\n",
    "\n",
    "#Predict Output\n",
    "predicted= model.predict(X_test) # 0:Overcast, 2:Mild\n",
    "print(\"Accuracy:\",metrics.accuracy_score(y_test, y_pred))"
   ]
  },
  {
   "cell_type": "code",
   "execution_count": null,
   "id": "08f31ade",
   "metadata": {},
   "outputs": [],
   "source": []
  },
  {
   "cell_type": "markdown",
   "id": "42c28410",
   "metadata": {},
   "source": [
    "# Case 3 with new MMR and win rate"
   ]
  },
  {
   "cell_type": "code",
   "execution_count": 46,
   "id": "e87a4592",
   "metadata": {},
   "outputs": [],
   "source": [
    "X=case3.drop(['winner'],axis=1)\n",
    "X_train, X_test, y_train, y_test = train_test_split(X, games['winner'], test_size=0.3, \n",
    "                                stratify = X['balance_code'])"
   ]
  },
  {
   "cell_type": "code",
   "execution_count": 47,
   "id": "448bc580",
   "metadata": {},
   "outputs": [
    {
     "name": "stdout",
     "output_type": "stream",
     "text": [
      "Accuracy: 0.6289167412712623\n"
     ]
    }
   ],
   "source": [
    "#RandomForest\n",
    "from sklearn.ensemble import RandomForestClassifier\n",
    "\n",
    "#Create a Gaussian Classifier\n",
    "clf=RandomForestClassifier(n_estimators=200)\n",
    "\n",
    "#Train the model using the training sets y_pred=clf.predict(X_test)\n",
    "clf.fit(X_train,y_train)\n",
    "\n",
    "y_pred=clf.predict(X_test)\n",
    "print(\"Accuracy:\",metrics.accuracy_score(y_test, y_pred))"
   ]
  },
  {
   "cell_type": "code",
   "execution_count": 48,
   "id": "8092f741",
   "metadata": {},
   "outputs": [
    {
     "data": {
      "text/plain": [
       "array([0.02886026, 0.17421825, 0.17713165, 0.30493925, 0.31485059])"
      ]
     },
     "execution_count": 48,
     "metadata": {},
     "output_type": "execute_result"
    }
   ],
   "source": [
    "clf.feature_importances_"
   ]
  },
  {
   "cell_type": "code",
   "execution_count": 54,
   "id": "82100d11",
   "metadata": {},
   "outputs": [
    {
     "name": "stdout",
     "output_type": "stream",
     "text": [
      "Accuracy: 0.4959713518352731\n"
     ]
    }
   ],
   "source": [
    "svc=SVC(probability=True)\n",
    "abc =AdaBoostClassifier(n_estimators=10, base_estimator=svc,learning_rate=1)\n",
    "model = abc.fit(X_train, y_train)\n",
    "y_pred = model.predict(X_test)\n",
    "\n",
    "print(\"Accuracy:\",metrics.accuracy_score(y_test, y_pred))"
   ]
  },
  {
   "cell_type": "code",
   "execution_count": 49,
   "id": "4260df06",
   "metadata": {},
   "outputs": [
    {
     "name": "stdout",
     "output_type": "stream",
     "text": [
      "Accuracy: 0.5425246195165622\n"
     ]
    }
   ],
   "source": [
    "from sklearn.neighbors import KNeighborsClassifier\n",
    "\n",
    "#Create KNN Classifier\n",
    "knn = KNeighborsClassifier(n_neighbors=5)\n",
    "\n",
    "#Train the model using the training sets\n",
    "knn.fit(X_train, y_train)\n",
    "\n",
    "#Predict the response for test dataset\n",
    "y_pred = knn.predict(X_test)\n",
    "print(\"Accuracy:\",metrics.accuracy_score(y_test, y_pred))"
   ]
  },
  {
   "cell_type": "code",
   "execution_count": 51,
   "id": "1dae750a",
   "metadata": {},
   "outputs": [
    {
     "name": "stdout",
     "output_type": "stream",
     "text": [
      "Accuracy: 0.6450313339301701\n"
     ]
    }
   ],
   "source": [
    "#Import Gaussian Naive Bayes model\n",
    "#Create a Gaussian Classifier\n",
    "model = GaussianNB()\n",
    "\n",
    "# Train the model using the training sets\n",
    "model.fit(X_train, y_train)\n",
    "\n",
    "#Predict Output\n",
    "y_pred= model.predict(X_test) # 0:Overcast, 2:Mild\n",
    "print(\"Accuracy:\",metrics.accuracy_score(y_test, y_pred))"
   ]
  },
  {
   "cell_type": "code",
   "execution_count": null,
   "id": "ddde9eca",
   "metadata": {},
   "outputs": [],
   "source": []
  }
 ],
 "metadata": {
  "kernelspec": {
   "display_name": "Python 3 (ipykernel)",
   "language": "python",
   "name": "python3"
  },
  "language_info": {
   "codemirror_mode": {
    "name": "ipython",
    "version": 3
   },
   "file_extension": ".py",
   "mimetype": "text/x-python",
   "name": "python",
   "nbconvert_exporter": "python",
   "pygments_lexer": "ipython3",
   "version": "3.8.5"
  }
 },
 "nbformat": 4,
 "nbformat_minor": 5
}
