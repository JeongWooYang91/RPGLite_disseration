{
 "cells": [
  {
   "cell_type": "code",
   "execution_count": 1,
   "id": "e61f42d1",
   "metadata": {},
   "outputs": [],
   "source": [
    "import pandas as pd"
   ]
  },
  {
   "cell_type": "code",
   "execution_count": null,
   "id": "43d10df1",
   "metadata": {},
   "outputs": [],
   "source": [
    "games =pd.read_csv(\"E:/rpglite-data/games_old.csv\")"
   ]
  },
  {
   "cell_type": "code",
   "execution_count": null,
   "id": "19e23c62",
   "metadata": {},
   "outputs": [],
   "source": [
    "games.head(5)"
   ]
  },
  {
   "cell_type": "code",
   "execution_count": null,
   "id": "51ee5458",
   "metadata": {},
   "outputs": [],
   "source": [
    "#new mmr, pick rate\n",
    "case1=games.drop(['Unnamed: 0','winrate1','winrate2','mmr_winner','strat_1_onehot','strat_2_onehot'],axis=1)"
   ]
  },
  {
   "cell_type": "code",
   "execution_count": null,
   "id": "917128ee",
   "metadata": {},
   "outputs": [],
   "source": [
    "case1.head(5)"
   ]
  },
  {
   "cell_type": "code",
   "execution_count": null,
   "id": "03c08c3d",
   "metadata": {},
   "outputs": [],
   "source": [
    "#new mmr, onehot\n",
    "case2=games.drop(['Unnamed: 0','winrate1','winrate2','mmr_winner','strat_1','strat_2'],axis=1)"
   ]
  },
  {
   "cell_type": "code",
   "execution_count": null,
   "id": "99d012dd",
   "metadata": {},
   "outputs": [],
   "source": [
    "case2.head(5)"
   ]
  },
  {
   "cell_type": "code",
   "execution_count": null,
   "id": "3d636f3d",
   "metadata": {},
   "outputs": [],
   "source": [
    "#new mmr, winrate\n",
    "case3=games.drop(['Unnamed: 0','strat_1_onehot','strat_2_onehot','mmr_winner','strat_1','strat_2'],axis=1)"
   ]
  },
  {
   "cell_type": "code",
   "execution_count": null,
   "id": "128273e8",
   "metadata": {},
   "outputs": [],
   "source": [
    "case3.head(5)"
   ]
  },
  {
   "cell_type": "code",
   "execution_count": null,
   "id": "45dc1a29",
   "metadata": {},
   "outputs": [],
   "source": [
    "#Scikit-learn 다 import 씹라\n",
    "import sklearn\n",
    "from sklearn.model_selection import train_test_split\n",
    "from sklearn.ensemble import RandomForestClassifier\n",
    "from sklearn.ensemble import AdaBoostClassifier\n",
    "from sklearn.svm import SVC\n",
    "from sklearn.neighbors import KNeighborsClassifier\n",
    "from sklearn import metrics\n",
    "from sklearn.neural_network import MLPClassifier"
   ]
  },
  {
   "cell_type": "markdown",
   "id": "f8479497",
   "metadata": {},
   "source": [
    "# Case 1 : New MMR System, pick rate"
   ]
  },
  {
   "cell_type": "code",
   "execution_count": null,
   "id": "b734fac8",
   "metadata": {},
   "outputs": [],
   "source": [
    "X=case1.drop(['winner'],axis=1)\n",
    "X_train, X_test, y_train, y_test = train_test_split(X, games['winner'], test_size=0.3, \n",
    "                                stratify = X['balance_code'])"
   ]
  },
  {
   "cell_type": "markdown",
   "id": "61b50ff7",
   "metadata": {},
   "source": [
    "RandomForest"
   ]
  },
  {
   "cell_type": "code",
   "execution_count": null,
   "id": "d53ab97e",
   "metadata": {},
   "outputs": [],
   "source": [
    "from sklearn.ensemble import RandomForestClassifier\n",
    "\n",
    "#Create a Gaussian Classifier\n",
    "clf=RandomForestClassifier(n_estimators=200)\n",
    "\n",
    "#Train the model using the training sets y_pred=clf.predict(X_test)\n",
    "clf.fit(X_train,y_train)\n",
    "\n",
    "y_pred=clf.predict(X_test)\n",
    "print(\"Accuracy:\",metrics.accuracy_score(y_test, y_pred))"
   ]
  },
  {
   "cell_type": "code",
   "execution_count": null,
   "id": "c59e8b75",
   "metadata": {},
   "outputs": [],
   "source": [
    "clf.feature_importances_"
   ]
  },
  {
   "cell_type": "code",
   "execution_count": null,
   "id": "078bbdac",
   "metadata": {},
   "outputs": [],
   "source": [
    "svc=SVC(probability=True, kernel='linear')\n",
    "abc =AdaBoostClassifier(n_estimators=10, base_estimator=svc,learning_rate=1)\n",
    "model = abc.fit(X_train, y_train)\n",
    "y_pred = model.predict(X_test)\n",
    "\n",
    "print(\"Accuracy:\",metrics.accuracy_score(y_test, y_pred))"
   ]
  },
  {
   "cell_type": "code",
   "execution_count": null,
   "id": "06094df7",
   "metadata": {},
   "outputs": [],
   "source": [
    "from sklearn.neighbors import KNeighborsClassifier\n",
    "\n",
    "#Create KNN Classifier\n",
    "knn = KNeighborsClassifier(n_neighbors=5)\n",
    "\n",
    "#Train the model using the training sets\n",
    "knn.fit(X_train, y_train)\n",
    "\n",
    "#Predict the response for test dataset\n",
    "y_pred = knn.predict(X_test)\n",
    "print(\"Accuracy:\",metrics.accuracy_score(y_test, y_pred))"
   ]
  },
  {
   "cell_type": "markdown",
   "id": "51f2597c",
   "metadata": {},
   "source": [
    "# Case 2 with new MMR and one-hot"
   ]
  },
  {
   "cell_type": "code",
   "execution_count": null,
   "id": "b652b447",
   "metadata": {},
   "outputs": [],
   "source": [
    "X=case2.drop(['winner'],axis=1)\n",
    "X_train, X_test, y_train, y_test = train_test_split(X, games['winner'], test_size=0.3, \n",
    "                                stratify = X['balance_code'])"
   ]
  },
  {
   "cell_type": "code",
   "execution_count": null,
   "id": "16814f0a",
   "metadata": {},
   "outputs": [],
   "source": [
    "#RandomForest\n",
    "from sklearn.ensemble import RandomForestClassifier\n",
    "\n",
    "#Create a Gaussian Classifier\n",
    "clf=RandomForestClassifier(n_estimators=200)\n",
    "\n",
    "#Train the model using the training sets y_pred=clf.predict(X_test)\n",
    "clf.fit(X_train,y_train)\n",
    "\n",
    "y_pred=clf.predict(X_test)\n",
    "print(\"Accuracy:\",metrics.accuracy_score(y_test, y_pred))"
   ]
  },
  {
   "cell_type": "code",
   "execution_count": null,
   "id": "a0752ad3",
   "metadata": {},
   "outputs": [],
   "source": [
    "clf.feature_importances_"
   ]
  },
  {
   "cell_type": "code",
   "execution_count": null,
   "id": "bc8acc3a",
   "metadata": {},
   "outputs": [],
   "source": [
    "svc=SVC(probability=True, kernel='linear')\n",
    "abc =AdaBoostClassifier(n_estimators=10, base_estimator=svc,learning_rate=1)\n",
    "model = abc.fit(X_train, y_train)\n",
    "y_pred = model.predict(X_test)\n",
    "\n",
    "print(\"Accuracy:\",metrics.accuracy_score(y_test, y_pred))"
   ]
  },
  {
   "cell_type": "code",
   "execution_count": null,
   "id": "eb3ca1ce",
   "metadata": {},
   "outputs": [],
   "source": [
    "from sklearn.neighbors import KNeighborsClassifier\n",
    "\n",
    "#Create KNN Classifier\n",
    "knn = KNeighborsClassifier(n_neighbors=5)\n",
    "\n",
    "#Train the model using the training sets\n",
    "knn.fit(X_train, y_train)\n",
    "\n",
    "#Predict the response for test dataset\n",
    "y_pred = knn.predict(X_test)\n",
    "print(\"Accuracy:\",metrics.accuracy_score(y_test, y_pred))"
   ]
  },
  {
   "cell_type": "code",
   "execution_count": null,
   "id": "01bbc58f",
   "metadata": {},
   "outputs": [],
   "source": []
  },
  {
   "cell_type": "markdown",
   "id": "1cbd1a56",
   "metadata": {},
   "source": [
    "# Case 3 with new MMR and win rate"
   ]
  },
  {
   "cell_type": "code",
   "execution_count": null,
   "id": "d9ce95dc",
   "metadata": {},
   "outputs": [],
   "source": [
    "X=case3.drop(['winner'],axis=1)\n",
    "X_train, X_test, y_train, y_test = train_test_split(X, games['winner'], test_size=0.3, \n",
    "                                stratify = X['balance_code'])"
   ]
  },
  {
   "cell_type": "code",
   "execution_count": null,
   "id": "397fa913",
   "metadata": {},
   "outputs": [],
   "source": [
    "#RandomForest\n",
    "from sklearn.ensemble import RandomForestClassifier\n",
    "\n",
    "#Create a Gaussian Classifier\n",
    "clf=RandomForestClassifier(n_estimators=200)\n",
    "\n",
    "#Train the model using the training sets y_pred=clf.predict(X_test)\n",
    "clf.fit(X_train,y_train)\n",
    "\n",
    "y_pred=clf.predict(X_test)\n",
    "print(\"Accuracy:\",metrics.accuracy_score(y_test, y_pred))"
   ]
  },
  {
   "cell_type": "code",
   "execution_count": null,
   "id": "5c496937",
   "metadata": {},
   "outputs": [],
   "source": [
    "clf.feature_importances_"
   ]
  },
  {
   "cell_type": "code",
   "execution_count": null,
   "id": "7a33c56c",
   "metadata": {},
   "outputs": [],
   "source": [
    "svc=SVC(probability=True, kernel='linear')\n",
    "abc =AdaBoostClassifier(n_estimators=10, base_estimator=svc,learning_rate=1)\n",
    "model = abc.fit(X_train, y_train)\n",
    "y_pred = model.predict(X_test)\n",
    "\n",
    "print(\"Accuracy:\",metrics.accuracy_score(y_test, y_pred))"
   ]
  },
  {
   "cell_type": "code",
   "execution_count": null,
   "id": "cc183660",
   "metadata": {},
   "outputs": [],
   "source": [
    "from sklearn.neighbors import KNeighborsClassifier\n",
    "\n",
    "#Create KNN Classifier\n",
    "knn = KNeighborsClassifier(n_neighbors=5)\n",
    "\n",
    "#Train the model using the training sets\n",
    "knn.fit(X_train, y_train)\n",
    "\n",
    "#Predict the response for test dataset\n",
    "y_pred = knn.predict(X_test)\n",
    "print(\"Accuracy:\",metrics.accuracy_score(y_test, y_pred))"
   ]
  },
  {
   "cell_type": "code",
   "execution_count": null,
   "id": "0eaf77db",
   "metadata": {},
   "outputs": [],
   "source": [
    "clf = MLPClassifier(solver='lbfgs', alpha=1e-5, hidden_layer_sizes=(10, 2), random_state=1)\n",
    "clf.fit(X_train, y_train)\n",
    "y_pred=clf.predict(X_test)\n",
    "print(\"Accuracy:\",metrics.accuracy_score(y_test, y_pred))"
   ]
  },
  {
   "cell_type": "code",
   "execution_count": null,
   "id": "fcc5aa89",
   "metadata": {},
   "outputs": [],
   "source": []
  }
 ],
 "metadata": {
  "kernelspec": {
   "display_name": "Python 3 (ipykernel)",
   "language": "python",
   "name": "python3"
  },
  "language_info": {
   "codemirror_mode": {
    "name": "ipython",
    "version": 3
   },
   "file_extension": ".py",
   "mimetype": "text/x-python",
   "name": "python",
   "nbconvert_exporter": "python",
   "pygments_lexer": "ipython3",
   "version": "3.8.5"
  }
 },
 "nbformat": 4,
 "nbformat_minor": 5
}
